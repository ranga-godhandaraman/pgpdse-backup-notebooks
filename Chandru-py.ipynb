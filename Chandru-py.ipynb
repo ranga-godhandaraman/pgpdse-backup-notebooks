{
 "cells": [
  {
   "cell_type": "raw",
   "id": "f1503695",
   "metadata": {},
   "source": [
    "x=float(10)\n",
    "x"
   ]
  },
  {
   "cell_type": "code",
   "execution_count": 5,
   "id": "4bb9964c",
   "metadata": {},
   "outputs": [
    {
     "name": "stdout",
     "output_type": "stream",
     "text": [
      "x 10.0\n"
     ]
    }
   ],
   "source": [
    "x=10\n",
    "print(\"x\",float(x))"
   ]
  },
  {
   "cell_type": "code",
   "execution_count": 36,
   "id": "24fbda09",
   "metadata": {},
   "outputs": [],
   "source": [
    "string= \"CHANDRU\""
   ]
  },
  {
   "cell_type": "code",
   "execution_count": 30,
   "id": "7306c9fd",
   "metadata": {},
   "outputs": [
    {
     "name": "stdout",
     "output_type": "stream",
     "text": [
      "C\n",
      "H\n",
      "A\n",
      "N\n",
      "D\n",
      "R\n",
      "U\n"
     ]
    }
   ],
   "source": [
    "for marvel in string:\n",
    "    print(marvel)"
   ]
  },
  {
   "cell_type": "code",
   "execution_count": 36,
   "id": "dd135c5f",
   "metadata": {},
   "outputs": [
    {
     "name": "stdout",
     "output_type": "stream",
     "text": [
      "10\n"
     ]
    }
   ],
   "source": [
    "if 3<2:\n",
    "    for marvel in string:\n",
    "        print(marvel)\n",
    "elif 2>3:\n",
    "    print(\"hello!\")\n",
    "else:\n",
    "    print(x)"
   ]
  },
  {
   "cell_type": "markdown",
   "id": "32fd5f1d",
   "metadata": {},
   "source": [
    "<ul>\n",
    "<li>mod... returns the reminder\n",
    "<li>div... returns the Quo</ul>\n",
    "\n",
    "### EVEN / ODD"
   ]
  },
  {
   "cell_type": "code",
   "execution_count": 38,
   "id": "23c88869",
   "metadata": {},
   "outputs": [],
   "source": [
    "x=25"
   ]
  },
  {
   "cell_type": "code",
   "execution_count": 40,
   "id": "d24fe69b",
   "metadata": {},
   "outputs": [
    {
     "name": "stdout",
     "output_type": "stream",
     "text": [
      "odd\n"
     ]
    }
   ],
   "source": [
    "if x%2 ==0:\n",
    "    print(\"even\")\n",
    "else:\n",
    "    print(\"odd\")"
   ]
  },
  {
   "cell_type": "code",
   "execution_count": 3,
   "id": "9ec819d5",
   "metadata": {},
   "outputs": [
    {
     "data": {
      "text/plain": [
       "'ScvbnCfvgbhn'"
      ]
     },
     "execution_count": 3,
     "metadata": {},
     "output_type": "execute_result"
    }
   ],
   "source": [
    "s= \"Scvbn\"\n",
    "c=\"Cfvgbhn\"\n",
    "\n",
    "s+c"
   ]
  },
  {
   "cell_type": "markdown",
   "id": "ef9b47d9",
   "metadata": {},
   "source": [
    "1997%4"
   ]
  },
  {
   "cell_type": "code",
   "execution_count": 9,
   "id": "656d031e",
   "metadata": {},
   "outputs": [
    {
     "name": "stdout",
     "output_type": "stream",
     "text": [
      "enter the yr4500\n",
      "4500 is a leap yr\n"
     ]
    }
   ],
   "source": [
    "x=int(input(\"enter the yr\"))\n",
    "\n",
    "if x%4==0:\n",
    "    print(x, \"is a leap yr\")\n",
    "else:\n",
    "    print(x, \"is not a leap yr\")"
   ]
  },
  {
   "cell_type": "code",
   "execution_count": 25,
   "id": "95df4319",
   "metadata": {},
   "outputs": [
    {
     "data": {
      "text/plain": [
       "3"
      ]
     },
     "execution_count": 25,
     "metadata": {},
     "output_type": "execute_result"
    }
   ],
   "source": [
    "22//6\n"
   ]
  },
  {
   "cell_type": "code",
   "execution_count": 11,
   "id": "d3605b4b",
   "metadata": {},
   "outputs": [
    {
     "data": {
      "text/plain": [
       "1.7781350482315113"
      ]
     },
     "execution_count": 11,
     "metadata": {},
     "output_type": "execute_result"
    }
   ],
   "source": [
    "553/311"
   ]
  },
  {
   "cell_type": "markdown",
   "id": "135af6db",
   "metadata": {},
   "source": [
    "### Operators:\n",
    "<ol>\n",
    "<li>Arithmetic\n",
    "<li>Logical\n",
    "<li>Relational\n",
    "<li>Identity\n",
    "<li>Membership\n",
    "<li>Assignment</ol>"
   ]
  },
  {
   "cell_type": "code",
   "execution_count": 1,
   "id": "79c1f7df",
   "metadata": {},
   "outputs": [],
   "source": [
    "num1= 10\n",
    "num2=30"
   ]
  },
  {
   "cell_type": "markdown",
   "id": "08c912bf",
   "metadata": {},
   "source": [
    "### 1. Arithmetic"
   ]
  },
  {
   "cell_type": "markdown",
   "id": "80ff3288",
   "metadata": {},
   "source": [
    "+, -, **, /, //, %,*"
   ]
  },
  {
   "cell_type": "code",
   "execution_count": 2,
   "id": "18ee9f35",
   "metadata": {},
   "outputs": [
    {
     "data": {
      "text/plain": [
       "40"
      ]
     },
     "execution_count": 2,
     "metadata": {},
     "output_type": "execute_result"
    }
   ],
   "source": [
    "num1+num2"
   ]
  },
  {
   "cell_type": "code",
   "execution_count": 3,
   "id": "7eafe6c1",
   "metadata": {},
   "outputs": [
    {
     "data": {
      "text/plain": [
       "-20"
      ]
     },
     "execution_count": 3,
     "metadata": {},
     "output_type": "execute_result"
    }
   ],
   "source": [
    "num1-num2"
   ]
  },
  {
   "cell_type": "code",
   "execution_count": 4,
   "id": "be782789",
   "metadata": {},
   "outputs": [
    {
     "data": {
      "text/plain": [
       "300"
      ]
     },
     "execution_count": 4,
     "metadata": {},
     "output_type": "execute_result"
    }
   ],
   "source": [
    "num1*num2"
   ]
  },
  {
   "cell_type": "code",
   "execution_count": 5,
   "id": "9717d476",
   "metadata": {},
   "outputs": [
    {
     "data": {
      "text/plain": [
       "0.3333333333333333"
      ]
     },
     "execution_count": 5,
     "metadata": {},
     "output_type": "execute_result"
    }
   ],
   "source": [
    "num1/num2"
   ]
  },
  {
   "cell_type": "code",
   "execution_count": 6,
   "id": "7d2d90cb",
   "metadata": {},
   "outputs": [
    {
     "data": {
      "text/plain": [
       "0"
      ]
     },
     "execution_count": 6,
     "metadata": {},
     "output_type": "execute_result"
    }
   ],
   "source": [
    "num1//num2"
   ]
  },
  {
   "cell_type": "code",
   "execution_count": 7,
   "id": "d452f7fc",
   "metadata": {},
   "outputs": [
    {
     "data": {
      "text/plain": [
       "1000000000000000000000000000000"
      ]
     },
     "execution_count": 7,
     "metadata": {},
     "output_type": "execute_result"
    }
   ],
   "source": [
    "num1**num2"
   ]
  },
  {
   "cell_type": "code",
   "execution_count": 8,
   "id": "81a5ba92",
   "metadata": {},
   "outputs": [
    {
     "data": {
      "text/plain": [
       "10"
      ]
     },
     "execution_count": 8,
     "metadata": {},
     "output_type": "execute_result"
    }
   ],
   "source": [
    "num1%num2"
   ]
  },
  {
   "cell_type": "markdown",
   "id": "c1140bc7",
   "metadata": {},
   "source": [
    "### 2. Logical"
   ]
  },
  {
   "cell_type": "markdown",
   "id": "9cdf8658",
   "metadata": {},
   "source": [
    "AND(&), OR(|), NOT"
   ]
  },
  {
   "cell_type": "code",
   "execution_count": 9,
   "id": "0075234e",
   "metadata": {},
   "outputs": [],
   "source": [
    "ex= range(0,100,5)"
   ]
  },
  {
   "cell_type": "code",
   "execution_count": 23,
   "id": "810f7496",
   "metadata": {},
   "outputs": [
    {
     "data": {
      "text/plain": [
       "10"
      ]
     },
     "execution_count": 23,
     "metadata": {},
     "output_type": "execute_result"
    }
   ],
   "source": [
    "num1&num2"
   ]
  },
  {
   "cell_type": "code",
   "execution_count": 22,
   "id": "afcbf805",
   "metadata": {},
   "outputs": [
    {
     "data": {
      "text/plain": [
       "30"
      ]
     },
     "execution_count": 22,
     "metadata": {},
     "output_type": "execute_result"
    }
   ],
   "source": [
    "num1|num2"
   ]
  },
  {
   "cell_type": "code",
   "execution_count": 25,
   "id": "81472204",
   "metadata": {},
   "outputs": [
    {
     "data": {
      "text/plain": [
       "False"
      ]
     },
     "execution_count": 25,
     "metadata": {},
     "output_type": "execute_result"
    }
   ],
   "source": [
    "not (num1!=num2)"
   ]
  },
  {
   "cell_type": "markdown",
   "id": "da7276a7",
   "metadata": {},
   "source": [
    "### 3. Relational"
   ]
  },
  {
   "cell_type": "markdown",
   "id": "d9c013c0",
   "metadata": {},
   "source": [
    "<, >, >=, <=, ==, !="
   ]
  },
  {
   "cell_type": "code",
   "execution_count": 13,
   "id": "fca76863",
   "metadata": {},
   "outputs": [
    {
     "data": {
      "text/plain": [
       "True"
      ]
     },
     "execution_count": 13,
     "metadata": {},
     "output_type": "execute_result"
    }
   ],
   "source": [
    "num1<num2"
   ]
  },
  {
   "cell_type": "code",
   "execution_count": 14,
   "id": "f0c277bf",
   "metadata": {},
   "outputs": [
    {
     "data": {
      "text/plain": [
       "False"
      ]
     },
     "execution_count": 14,
     "metadata": {},
     "output_type": "execute_result"
    }
   ],
   "source": [
    "num1>num2"
   ]
  },
  {
   "cell_type": "code",
   "execution_count": 15,
   "id": "168aff5e",
   "metadata": {},
   "outputs": [
    {
     "data": {
      "text/plain": [
       "False"
      ]
     },
     "execution_count": 15,
     "metadata": {},
     "output_type": "execute_result"
    }
   ],
   "source": [
    "num1==num2"
   ]
  },
  {
   "cell_type": "code",
   "execution_count": 16,
   "id": "a05941fd",
   "metadata": {},
   "outputs": [
    {
     "data": {
      "text/plain": [
       "True"
      ]
     },
     "execution_count": 16,
     "metadata": {},
     "output_type": "execute_result"
    }
   ],
   "source": [
    "num1!=num2"
   ]
  },
  {
   "cell_type": "code",
   "execution_count": 19,
   "id": "0f8edc19",
   "metadata": {},
   "outputs": [
    {
     "data": {
      "text/plain": [
       "True"
      ]
     },
     "execution_count": 19,
     "metadata": {},
     "output_type": "execute_result"
    }
   ],
   "source": [
    "num1<=num2"
   ]
  },
  {
   "cell_type": "code",
   "execution_count": 20,
   "id": "3858625b",
   "metadata": {},
   "outputs": [
    {
     "data": {
      "text/plain": [
       "False"
      ]
     },
     "execution_count": 20,
     "metadata": {},
     "output_type": "execute_result"
    }
   ],
   "source": [
    "num1>=num2"
   ]
  },
  {
   "cell_type": "markdown",
   "id": "6b96b649",
   "metadata": {},
   "source": [
    "### 4. Identity"
   ]
  },
  {
   "cell_type": "markdown",
   "id": "ddc24951",
   "metadata": {},
   "source": [
    "is, is not"
   ]
  },
  {
   "cell_type": "code",
   "execution_count": 29,
   "id": "091b4d57",
   "metadata": {},
   "outputs": [
    {
     "data": {
      "text/plain": [
       "True"
      ]
     },
     "execution_count": 29,
     "metadata": {},
     "output_type": "execute_result"
    }
   ],
   "source": [
    "type(num1) is int"
   ]
  },
  {
   "cell_type": "code",
   "execution_count": 34,
   "id": "41b568e0",
   "metadata": {},
   "outputs": [
    {
     "data": {
      "text/plain": [
       "False"
      ]
     },
     "execution_count": 34,
     "metadata": {},
     "output_type": "execute_result"
    }
   ],
   "source": [
    "(type(num2) is not int)"
   ]
  },
  {
   "cell_type": "markdown",
   "id": "aade2935",
   "metadata": {},
   "source": [
    "### 5.Membership"
   ]
  },
  {
   "cell_type": "code",
   "execution_count": 37,
   "id": "d673084f",
   "metadata": {},
   "outputs": [
    {
     "name": "stdout",
     "output_type": "stream",
     "text": [
      "C\n",
      "H\n",
      "A\n",
      "N\n",
      "D\n",
      "R\n",
      "U\n"
     ]
    }
   ],
   "source": [
    "for marvel in string:\n",
    "    print(marvel)"
   ]
  },
  {
   "cell_type": "code",
   "execution_count": 40,
   "id": "c4f7e259",
   "metadata": {},
   "outputs": [
    {
     "ename": "SyntaxError",
     "evalue": "invalid syntax (4034773856.py, line 1)",
     "output_type": "error",
     "traceback": [
      "\u001b[1;36m  Input \u001b[1;32mIn [40]\u001b[1;36m\u001b[0m\n\u001b[1;33m    for marvel not in string:\u001b[0m\n\u001b[1;37m                            ^\u001b[0m\n\u001b[1;31mSyntaxError\u001b[0m\u001b[1;31m:\u001b[0m invalid syntax\n"
     ]
    }
   ],
   "source": [
    "for marvel not in string:\n",
    "    print(marvel)"
   ]
  },
  {
   "cell_type": "code",
   "execution_count": 2,
   "id": "f6180a91",
   "metadata": {},
   "outputs": [
    {
     "name": "stdout",
     "output_type": "stream",
     "text": [
      "Requirement already satisfied: nbconvert[webpdf] in c:\\users\\azhag\\anaconda3\\lib\\site-packages (6.4.4)\n",
      "Requirement already satisfied: mistune<2,>=0.8.1 in c:\\users\\azhag\\anaconda3\\lib\\site-packages (from nbconvert[webpdf]) (0.8.4)\n",
      "Requirement already satisfied: nbclient<0.6.0,>=0.5.0 in c:\\users\\azhag\\anaconda3\\lib\\site-packages (from nbconvert[webpdf]) (0.5.13)\n",
      "Requirement already satisfied: jupyterlab-pygments in c:\\users\\azhag\\anaconda3\\lib\\site-packages (from nbconvert[webpdf]) (0.1.2)\n",
      "Requirement already satisfied: pygments>=2.4.1 in c:\\users\\azhag\\anaconda3\\lib\\site-packages (from nbconvert[webpdf]) (2.11.2)\n",
      "Requirement already satisfied: testpath in c:\\users\\azhag\\anaconda3\\lib\\site-packages (from nbconvert[webpdf]) (0.5.0)\n",
      "Requirement already satisfied: nbformat>=4.4 in c:\\users\\azhag\\anaconda3\\lib\\site-packages (from nbconvert[webpdf]) (5.3.0)\n",
      "Requirement already satisfied: beautifulsoup4 in c:\\users\\azhag\\anaconda3\\lib\\site-packages (from nbconvert[webpdf]) (4.11.1)\n",
      "Requirement already satisfied: jupyter-core in c:\\users\\azhag\\anaconda3\\lib\\site-packages (from nbconvert[webpdf]) (4.9.2)\n",
      "Requirement already satisfied: traitlets>=5.0 in c:\\users\\azhag\\anaconda3\\lib\\site-packages (from nbconvert[webpdf]) (5.1.1)\n",
      "Requirement already satisfied: defusedxml in c:\\users\\azhag\\anaconda3\\lib\\site-packages (from nbconvert[webpdf]) (0.7.1)\n",
      "Requirement already satisfied: pandocfilters>=1.4.1 in c:\\users\\azhag\\anaconda3\\lib\\site-packages (from nbconvert[webpdf]) (1.5.0)\n",
      "Requirement already satisfied: entrypoints>=0.2.2 in c:\\users\\azhag\\anaconda3\\lib\\site-packages (from nbconvert[webpdf]) (0.4)\n",
      "Requirement already satisfied: bleach in c:\\users\\azhag\\anaconda3\\lib\\site-packages (from nbconvert[webpdf]) (4.1.0)\n",
      "Requirement already satisfied: jinja2>=2.4 in c:\\users\\azhag\\anaconda3\\lib\\site-packages (from nbconvert[webpdf]) (2.11.3)\n",
      "Collecting pyppeteer<1.1,>=1\n",
      "  Downloading pyppeteer-1.0.2-py3-none-any.whl (83 kB)\n",
      "Requirement already satisfied: MarkupSafe>=0.23 in c:\\users\\azhag\\anaconda3\\lib\\site-packages (from jinja2>=2.4->nbconvert[webpdf]) (2.0.1)\n",
      "Requirement already satisfied: nest-asyncio in c:\\users\\azhag\\anaconda3\\lib\\site-packages (from nbclient<0.6.0,>=0.5.0->nbconvert[webpdf]) (1.5.5)\n",
      "Requirement already satisfied: jupyter-client>=6.1.5 in c:\\users\\azhag\\anaconda3\\lib\\site-packages (from nbclient<0.6.0,>=0.5.0->nbconvert[webpdf]) (6.1.12)\n",
      "Requirement already satisfied: tornado>=4.1 in c:\\users\\azhag\\anaconda3\\lib\\site-packages (from jupyter-client>=6.1.5->nbclient<0.6.0,>=0.5.0->nbconvert[webpdf]) (6.1)\n",
      "Requirement already satisfied: python-dateutil>=2.1 in c:\\users\\azhag\\anaconda3\\lib\\site-packages (from jupyter-client>=6.1.5->nbclient<0.6.0,>=0.5.0->nbconvert[webpdf]) (2.8.2)\n",
      "Requirement already satisfied: pyzmq>=13 in c:\\users\\azhag\\anaconda3\\lib\\site-packages (from jupyter-client>=6.1.5->nbclient<0.6.0,>=0.5.0->nbconvert[webpdf]) (22.3.0)\n",
      "Requirement already satisfied: pywin32>=1.0 in c:\\users\\azhag\\anaconda3\\lib\\site-packages (from jupyter-core->nbconvert[webpdf]) (302)\n",
      "Requirement already satisfied: jsonschema>=2.6 in c:\\users\\azhag\\anaconda3\\lib\\site-packages (from nbformat>=4.4->nbconvert[webpdf]) (4.4.0)\n",
      "Requirement already satisfied: fastjsonschema in c:\\users\\azhag\\anaconda3\\lib\\site-packages (from nbformat>=4.4->nbconvert[webpdf]) (2.15.1)\n",
      "Requirement already satisfied: attrs>=17.4.0 in c:\\users\\azhag\\anaconda3\\lib\\site-packages (from jsonschema>=2.6->nbformat>=4.4->nbconvert[webpdf]) (21.4.0)\n",
      "Requirement already satisfied: pyrsistent!=0.17.0,!=0.17.1,!=0.17.2,>=0.14.0 in c:\\users\\azhag\\anaconda3\\lib\\site-packages (from jsonschema>=2.6->nbformat>=4.4->nbconvert[webpdf]) (0.18.0)\n",
      "Collecting pyee<9.0.0,>=8.1.0\n",
      "  Downloading pyee-8.2.2-py2.py3-none-any.whl (12 kB)\n",
      "Requirement already satisfied: tqdm<5.0.0,>=4.42.1 in c:\\users\\azhag\\anaconda3\\lib\\site-packages (from pyppeteer<1.1,>=1->nbconvert[webpdf]) (4.64.0)\n",
      "Requirement already satisfied: importlib-metadata>=1.4 in c:\\users\\azhag\\anaconda3\\lib\\site-packages (from pyppeteer<1.1,>=1->nbconvert[webpdf]) (4.11.3)\n",
      "Requirement already satisfied: certifi>=2021 in c:\\users\\azhag\\anaconda3\\lib\\site-packages (from pyppeteer<1.1,>=1->nbconvert[webpdf]) (2021.10.8)\n",
      "Requirement already satisfied: urllib3<2.0.0,>=1.25.8 in c:\\users\\azhag\\anaconda3\\lib\\site-packages (from pyppeteer<1.1,>=1->nbconvert[webpdf]) (1.26.9)\n",
      "Collecting websockets<11.0,>=10.0\n",
      "  Downloading websockets-10.4-cp39-cp39-win_amd64.whl (101 kB)\n",
      "Requirement already satisfied: appdirs<2.0.0,>=1.4.3 in c:\\users\\azhag\\anaconda3\\lib\\site-packages (from pyppeteer<1.1,>=1->nbconvert[webpdf]) (1.4.4)\n",
      "Requirement already satisfied: zipp>=0.5 in c:\\users\\azhag\\anaconda3\\lib\\site-packages (from importlib-metadata>=1.4->pyppeteer<1.1,>=1->nbconvert[webpdf]) (3.7.0)\n",
      "Requirement already satisfied: six>=1.5 in c:\\users\\azhag\\anaconda3\\lib\\site-packages (from python-dateutil>=2.1->jupyter-client>=6.1.5->nbclient<0.6.0,>=0.5.0->nbconvert[webpdf]) (1.16.0)\n",
      "Requirement already satisfied: colorama in c:\\users\\azhag\\anaconda3\\lib\\site-packages (from tqdm<5.0.0,>=4.42.1->pyppeteer<1.1,>=1->nbconvert[webpdf]) (0.4.4)\n",
      "Requirement already satisfied: soupsieve>1.2 in c:\\users\\azhag\\anaconda3\\lib\\site-packages (from beautifulsoup4->nbconvert[webpdf]) (2.3.1)\n",
      "Requirement already satisfied: packaging in c:\\users\\azhag\\anaconda3\\lib\\site-packages (from bleach->nbconvert[webpdf]) (21.3)\n",
      "Requirement already satisfied: webencodings in c:\\users\\azhag\\anaconda3\\lib\\site-packages (from bleach->nbconvert[webpdf]) (0.5.1)\n",
      "Requirement already satisfied: pyparsing!=3.0.5,>=2.0.2 in c:\\users\\azhag\\anaconda3\\lib\\site-packages (from packaging->bleach->nbconvert[webpdf]) (3.0.4)\n",
      "Installing collected packages: websockets, pyee, pyppeteer\n",
      "Successfully installed pyee-8.2.2 pyppeteer-1.0.2 websockets-10.4\n"
     ]
    }
   ],
   "source": [
    "!pip install nbconvert[webpdf]"
   ]
  },
  {
   "cell_type": "code",
   "execution_count": 41,
   "id": "6ce58c31",
   "metadata": {},
   "outputs": [
    {
     "name": "stdout",
     "output_type": "stream",
     "text": [
      "Collecting pandoc\n",
      "  Downloading pandoc-2.3.tar.gz (33 kB)\n",
      "Collecting plumbum\n",
      "  Downloading plumbum-1.8.2-py3-none-any.whl (127 kB)\n",
      "Collecting ply\n",
      "  Downloading ply-3.11-py2.py3-none-any.whl (49 kB)\n",
      "Requirement already satisfied: pywin32 in c:\\users\\azhag\\anaconda3\\lib\\site-packages (from plumbum->pandoc) (302)\n",
      "Building wheels for collected packages: pandoc\n",
      "  Building wheel for pandoc (setup.py): started\n",
      "  Building wheel for pandoc (setup.py): finished with status 'done'\n",
      "  Created wheel for pandoc: filename=pandoc-2.3-py3-none-any.whl size=33282 sha256=4c1b55c72743fce34acbc065dd17cc224d315cdc32670903255379117152389a\n",
      "  Stored in directory: c:\\users\\azhag\\appdata\\local\\pip\\cache\\wheels\\69\\e6\\a1\\1daa96d919c9e09a71473649b717b8da286f3f8d7719d1cfc5\n",
      "Successfully built pandoc\n",
      "Installing collected packages: ply, plumbum, pandoc\n",
      "Successfully installed pandoc-2.3 plumbum-1.8.2 ply-3.11\n",
      "Note: you may need to restart the kernel to use updated packages.\n"
     ]
    }
   ],
   "source": [
    "pip install pandoc"
   ]
  },
  {
   "cell_type": "code",
   "execution_count": 1,
   "id": "0f8e4e9d",
   "metadata": {},
   "outputs": [
    {
     "name": "stdout",
     "output_type": "stream",
     "text": [
      "Arithmetic Calculator\n",
      "---------------------\n",
      "Enter the first number: 5\n",
      "Enter the operator (+, -, *, /): +\n",
      "Enter the second number: 64\n",
      "Result: 69.0\n"
     ]
    }
   ],
   "source": [
    "def calculator():\n",
    "    print(\"Arithmetic Calculator\")\n",
    "    print(\"---------------------\")\n",
    "    \n",
    "    num1 = float(input(\"Enter the first number: \"))\n",
    "    operator = input(\"Enter the operator (+, -, *, /): \")\n",
    "    num2 = float(input(\"Enter the second number: \"))\n",
    "    \n",
    "    if operator == \"+\":\n",
    "        result = num1 + num2\n",
    "    elif operator == \"-\":\n",
    "        result = num1 - num2\n",
    "    elif operator == \"*\":\n",
    "        result = num1 * num2\n",
    "    elif operator == \"/\":\n",
    "        result = num1 / num2\n",
    "    else:\n",
    "        print(\"Invalid operator!\")\n",
    "        return\n",
    "    \n",
    "    print(\"Result:\", result)\n",
    "\n",
    "calculator()\n"
   ]
  },
  {
   "cell_type": "code",
   "execution_count": 8,
   "id": "aefc2ee4",
   "metadata": {},
   "outputs": [],
   "source": [
    "x= 'A'"
   ]
  },
  {
   "cell_type": "code",
   "execution_count": 9,
   "id": "58b608d0",
   "metadata": {},
   "outputs": [
    {
     "data": {
      "text/plain": [
       "65"
      ]
     },
     "execution_count": 9,
     "metadata": {},
     "output_type": "execute_result"
    }
   ],
   "source": [
    "ord(x)"
   ]
  },
  {
   "cell_type": "code",
   "execution_count": null,
   "id": "12769c51",
   "metadata": {},
   "outputs": [],
   "source": []
  }
 ],
 "metadata": {
  "kernelspec": {
   "display_name": "Python 3 (ipykernel)",
   "language": "python",
   "name": "python3"
  },
  "language_info": {
   "codemirror_mode": {
    "name": "ipython",
    "version": 3
   },
   "file_extension": ".py",
   "mimetype": "text/x-python",
   "name": "python",
   "nbconvert_exporter": "python",
   "pygments_lexer": "ipython3",
   "version": "3.9.12"
  }
 },
 "nbformat": 4,
 "nbformat_minor": 5
}
